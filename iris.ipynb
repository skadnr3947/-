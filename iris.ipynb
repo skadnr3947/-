{
 "cells": [
  {
   "cell_type": "code",
   "execution_count": 28,
   "metadata": {},
   "outputs": [],
   "source": [
    "from keras.models import Sequential\n",
    "from keras.layers.core import Dense\n",
    "from keras.utils import np_utils\n",
    "from sklearn.preprocessing import LabelEncoder\n",
    "import seaborn as sns\n",
    "from matplotlib import pyplot as plt\n",
    "\n",
    "import pandas as pd\n",
    "import numpy as np\n",
    "import tensorflow as tf"
   ]
  },
  {
   "cell_type": "code",
   "execution_count": 29,
   "metadata": {},
   "outputs": [],
   "source": [
    "seed=0\n",
    "np.random.seed(seed)\n",
    "tf.set_random_seed(seed)"
   ]
  },
  {
   "cell_type": "code",
   "execution_count": 30,
   "metadata": {},
   "outputs": [],
   "source": [
    "df = sns.load_dataset('iris')"
   ]
  },
  {
   "cell_type": "code",
   "execution_count": 46,
   "metadata": {},
   "outputs": [],
   "source": [
    "dataset=df.values\n",
    "x=dataset[:,0:4].astype(float)\n",
    "y_obj=dataset[:,4]"
   ]
  },
  {
   "cell_type": "code",
   "execution_count": 47,
   "metadata": {},
   "outputs": [],
   "source": [
    "e=LabelEncoder()\n",
    "e.fit(y_obj)\n",
    "y=e.transform(y_obj)\n",
    "y_encoded=np_utils.to_categorical(y)"
   ]
  },
  {
   "cell_type": "code",
   "execution_count": 39,
   "metadata": {},
   "outputs": [],
   "source": [
    "model=Sequential()\n",
    "model.add(Dense(16, input_dim=4, activation='relu'))\n",
    "model.add(Dense(3, activation='softmax'))"
   ]
  },
  {
   "cell_type": "code",
   "execution_count": 41,
   "metadata": {},
   "outputs": [
    {
     "name": "stdout",
     "output_type": "stream",
     "text": [
      "WARNING:tensorflow:From /opt/app-root/lib/python3.6/site-packages/keras/optimizers.py:793: The name tf.train.Optimizer is deprecated. Please use tf.compat.v1.train.Optimizer instead.\n",
      "\n",
      "WARNING:tensorflow:From /opt/app-root/lib/python3.6/site-packages/keras/backend/tensorflow_backend.py:3576: The name tf.log is deprecated. Please use tf.math.log instead.\n",
      "\n"
     ]
    }
   ],
   "source": [
    "model.compile(loss='categorical_crossentropy',\n",
    "             optimizer='adam',\n",
    "             metrics=['accuracy'])"
   ]
  },
  {
   "cell_type": "code",
   "execution_count": 48,
   "metadata": {},
   "outputs": [
    {
     "name": "stdout",
     "output_type": "stream",
     "text": [
      "WARNING:tensorflow:From /opt/app-root/lib/python3.6/site-packages/tensorflow/python/ops/math_grad.py:1250: add_dispatch_support.<locals>.wrapper (from tensorflow.python.ops.array_ops) is deprecated and will be removed in a future version.\n",
      "Instructions for updating:\n",
      "Use tf.where in 2.0, which has the same broadcast rule as np.where\n",
      "WARNING:tensorflow:From /opt/app-root/lib/python3.6/site-packages/keras/backend/tensorflow_backend.py:1033: The name tf.assign_add is deprecated. Please use tf.compat.v1.assign_add instead.\n",
      "\n",
      "Epoch 1/50\n",
      "150/150 [==============================] - 1s 4ms/step - loss: 1.2257 - acc: 0.4000\n",
      "Epoch 2/50\n",
      "150/150 [==============================] - 0s 2ms/step - loss: 0.7644 - acc: 0.7133\n",
      "Epoch 3/50\n",
      "150/150 [==============================] - 0s 2ms/step - loss: 0.6399 - acc: 0.6933\n",
      "Epoch 4/50\n",
      "150/150 [==============================] - 0s 2ms/step - loss: 0.5587 - acc: 0.7800\n",
      "Epoch 5/50\n",
      "150/150 [==============================] - 0s 2ms/step - loss: 0.5180 - acc: 0.7533\n",
      "Epoch 6/50\n",
      "150/150 [==============================] - 0s 2ms/step - loss: 0.4812 - acc: 0.8200\n",
      "Epoch 7/50\n",
      "150/150 [==============================] - ETA: 0s - loss: 0.4575 - acc: 0.8367 - 0s 2ms/step - loss: 0.4536 - acc: 0.8400\n",
      "Epoch 8/50\n",
      "150/150 [==============================] - 0s 2ms/step - loss: 0.4357 - acc: 0.7733\n",
      "Epoch 9/50\n",
      "150/150 [==============================] - 0s 2ms/step - loss: 0.4240 - acc: 0.8333\n",
      "Epoch 10/50\n",
      "150/150 [==============================] - 0s 2ms/step - loss: 0.4051 - acc: 0.8600\n",
      "Epoch 11/50\n",
      "150/150 [==============================] - 0s 2ms/step - loss: 0.4002 - acc: 0.8667\n",
      "Epoch 12/50\n",
      "150/150 [==============================] - 0s 2ms/step - loss: 0.3786 - acc: 0.8867\n",
      "Epoch 13/50\n",
      "150/150 [==============================] - 0s 2ms/step - loss: 0.3683 - acc: 0.9000\n",
      "Epoch 14/50\n",
      "150/150 [==============================] - 0s 2ms/step - loss: 0.3541 - acc: 0.8933\n",
      "Epoch 15/50\n",
      "150/150 [==============================] - 0s 2ms/step - loss: 0.3485 - acc: 0.9333A: 0s - loss: 0.3523 - acc: 0.936\n",
      "Epoch 16/50\n",
      "150/150 [==============================] - 0s 2ms/step - loss: 0.3471 - acc: 0.9000\n",
      "Epoch 17/50\n",
      "150/150 [==============================] - 0s 2ms/step - loss: 0.3265 - acc: 0.9400\n",
      "Epoch 18/50\n",
      "150/150 [==============================] - 0s 2ms/step - loss: 0.3146 - acc: 0.9533\n",
      "Epoch 19/50\n",
      "150/150 [==============================] - 0s 2ms/step - loss: 0.3063 - acc: 0.9467\n",
      "Epoch 20/50\n",
      "150/150 [==============================] - 0s 2ms/step - loss: 0.2908 - acc: 0.9400\n",
      "Epoch 21/50\n",
      "150/150 [==============================] - 0s 2ms/step - loss: 0.2947 - acc: 0.9333\n",
      "Epoch 22/50\n",
      "150/150 [==============================] - 0s 2ms/step - loss: 0.2791 - acc: 0.9600\n",
      "Epoch 23/50\n",
      "150/150 [==============================] - 0s 2ms/step - loss: 0.2726 - acc: 0.9533\n",
      "Epoch 24/50\n",
      "150/150 [==============================] - 0s 2ms/step - loss: 0.2592 - acc: 0.9600\n",
      "Epoch 25/50\n",
      "150/150 [==============================] - 0s 2ms/step - loss: 0.2563 - acc: 0.9733\n",
      "Epoch 26/50\n",
      "150/150 [==============================] - 0s 2ms/step - loss: 0.2430 - acc: 0.9667\n",
      "Epoch 27/50\n",
      "150/150 [==============================] - 0s 2ms/step - loss: 0.2353 - acc: 0.9600\n",
      "Epoch 28/50\n",
      "150/150 [==============================] - 0s 2ms/step - loss: 0.2281 - acc: 0.9667\n",
      "Epoch 29/50\n",
      "150/150 [==============================] - 0s 2ms/step - loss: 0.2195 - acc: 0.9667\n",
      "Epoch 30/50\n",
      "150/150 [==============================] - 0s 2ms/step - loss: 0.2149 - acc: 0.9600\n",
      "Epoch 31/50\n",
      "150/150 [==============================] - 0s 2ms/step - loss: 0.1986 - acc: 0.9600\n",
      "Epoch 32/50\n",
      "150/150 [==============================] - 0s 2ms/step - loss: 0.1934 - acc: 0.9533\n",
      "Epoch 33/50\n",
      "150/150 [==============================] - 0s 2ms/step - loss: 0.1916 - acc: 0.9667\n",
      "Epoch 34/50\n",
      "150/150 [==============================] - 0s 2ms/step - loss: 0.1896 - acc: 0.9733\n",
      "Epoch 35/50\n",
      "150/150 [==============================] - 0s 2ms/step - loss: 0.1872 - acc: 0.9600\n",
      "Epoch 36/50\n",
      "150/150 [==============================] - 0s 2ms/step - loss: 0.1749 - acc: 0.9533\n",
      "Epoch 37/50\n",
      "150/150 [==============================] - 0s 2ms/step - loss: 0.1692 - acc: 0.9600\n",
      "Epoch 38/50\n",
      "150/150 [==============================] - 0s 2ms/step - loss: 0.1651 - acc: 0.9667\n",
      "Epoch 39/50\n",
      "150/150 [==============================] - 0s 2ms/step - loss: 0.1573 - acc: 0.9667\n",
      "Epoch 40/50\n",
      "150/150 [==============================] - 0s 2ms/step - loss: 0.1588 - acc: 0.9733\n",
      "Epoch 41/50\n",
      "150/150 [==============================] - 0s 2ms/step - loss: 0.1505 - acc: 0.9667\n",
      "Epoch 42/50\n",
      "150/150 [==============================] - 0s 2ms/step - loss: 0.1485 - acc: 0.9733\n",
      "Epoch 43/50\n",
      "150/150 [==============================] - 0s 2ms/step - loss: 0.1408 - acc: 0.9667\n",
      "Epoch 44/50\n",
      "150/150 [==============================] - 0s 2ms/step - loss: 0.1444 - acc: 0.9733\n",
      "Epoch 45/50\n",
      "150/150 [==============================] - 0s 2ms/step - loss: 0.1392 - acc: 0.9600\n",
      "Epoch 46/50\n",
      "150/150 [==============================] - 0s 2ms/step - loss: 0.1352 - acc: 0.9800\n",
      "Epoch 47/50\n",
      "150/150 [==============================] - 0s 2ms/step - loss: 0.1321 - acc: 0.9667\n",
      "Epoch 48/50\n",
      "150/150 [==============================] - 0s 2ms/step - loss: 0.1289 - acc: 0.9733\n",
      "Epoch 49/50\n",
      "150/150 [==============================] - 0s 2ms/step - loss: 0.1263 - acc: 0.9800\n",
      "Epoch 50/50\n",
      "150/150 [==============================] - 0s 2ms/step - loss: 0.1219 - acc: 0.9667\n"
     ]
    },
    {
     "data": {
      "text/plain": [
       "<keras.callbacks.History at 0x7f78cf8869e8>"
      ]
     },
     "execution_count": 48,
     "metadata": {},
     "output_type": "execute_result"
    }
   ],
   "source": [
    "model.fit(x,y_encoded, epochs=50, batch_size=1)"
   ]
  }
 ],
 "metadata": {
  "kernelspec": {
   "display_name": "Python 3",
   "language": "python",
   "name": "python3"
  },
  "language_info": {
   "codemirror_mode": {
    "name": "ipython",
    "version": 3
   },
   "file_extension": ".py",
   "mimetype": "text/x-python",
   "name": "python",
   "nbconvert_exporter": "python",
   "pygments_lexer": "ipython3",
   "version": "3.6.3"
  }
 },
 "nbformat": 4,
 "nbformat_minor": 2
}
